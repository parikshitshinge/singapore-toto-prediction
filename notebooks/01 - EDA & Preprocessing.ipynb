{
 "cells": [
  {
   "attachments": {},
   "cell_type": "markdown",
   "metadata": {},
   "source": [
    "#Singapore TOTO Prediction\n",
    "\n",
    "\n",
    "Toto (est. in 1968 and stylised as TOTO) is a legalised form of lottery sold in Singapore, known by different names elsewhere. It is held by Singapore Pools, the only legal lottery operator in Singapore. As of April 2015, it was the second most popular type of gambling activity after 4-Digits. Toto can be purchased from any of the Singapore Pools outlets across Singapore. Draws are conducted every Monday and Thursday at 6:30 pm (SG time). In case of the cascade draw, the draw time will change to 9.30 pm. The \"live\" Toto draw can be viewed at the Singapore Pools Main Branch at 210 Middle Road. The profits from Toto go to the Singapore Totaliser Board (the owner of Singapore Pools) which uses the money for charity and other worthy causes.<br>\n",
    "\n",
    "In this TOTO Game, an intending Participant has to purchase a set of six (6) numbers selected from 1 to 49 for the Relevant Draw. The correct matching of the set of six (6) numbers selected with any three (3) or more of the winning numbers drawn under the Rules shall qualify the Participant for a Prize or Prizes as provided in these TOTO Game Rules (General)."
   ]
  },
  {
   "attachments": {},
   "cell_type": "markdown",
   "metadata": {},
   "source": [
    "We will follow below strategy to sovle this:\n",
    "1. EDA & Preprocessing\n",
    "2. "
   ]
  },
  {
   "attachments": {},
   "cell_type": "markdown",
   "metadata": {},
   "source": [
    "### 0. Imports"
   ]
  },
  {
   "cell_type": "code",
   "execution_count": 4,
   "metadata": {},
   "outputs": [],
   "source": [
    "import pandas as pd\n",
    "import numpy as np \n",
    "import matplotlib.pyplot as plt \n",
    "import seaborn as sns"
   ]
  },
  {
   "attachments": {},
   "cell_type": "markdown",
   "metadata": {},
   "source": [
    "### 1. Load data"
   ]
  },
  {
   "cell_type": "code",
   "execution_count": null,
   "metadata": {},
   "outputs": [],
   "source": []
  },
  {
   "cell_type": "code",
   "execution_count": null,
   "metadata": {},
   "outputs": [],
   "source": []
  }
 ],
 "metadata": {
  "kernelspec": {
   "display_name": "base",
   "language": "python",
   "name": "python3"
  },
  "language_info": {
   "codemirror_mode": {
    "name": "ipython",
    "version": 3
   },
   "file_extension": ".py",
   "mimetype": "text/x-python",
   "name": "python",
   "nbconvert_exporter": "python",
   "pygments_lexer": "ipython3",
   "version": "3.9.16"
  },
  "orig_nbformat": 4
 },
 "nbformat": 4,
 "nbformat_minor": 2
}
